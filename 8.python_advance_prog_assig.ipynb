{
 "cells": [
  {
   "cell_type": "raw",
   "id": "71e325f0",
   "metadata": {},
   "source": [
    "1. Given a sentence as txt, return True if any two adjacent words have this property: One word ends with a vowel, while the word immediately after begins with a vowel (a e i o u).\n",
    "\n",
    "Examples\n",
    "\n",
    "vowel_links(\"a very large appliance\") ➞ True\n",
    "\n",
    "vowel_links(\"go to edabit\") ➞ True\n",
    "\n",
    "vowel_links(\"an open fire\") ➞ False\n",
    "\n",
    "vowel_links(\"a sudden applause\") ➞ False\n"
   ]
  },
  {
   "cell_type": "code",
   "execution_count": 91,
   "id": "34d3f65d",
   "metadata": {},
   "outputs": [],
   "source": [
    "vowel=[\"a\",\"e\",\"i\",\"o\",\"u\"]\n",
    "def vowel_links(txt):\n",
    "    txt=txt.split(\" \")\n",
    "    for i in range(len(txt)-1):\n",
    "        if\n",
    "        for j in range(i+1,l):\n",
    "            if txt[i][-1] in vowel and txt[j][1] in vowel:\n",
    "                return True          \n",
    "    return False \n",
    "        \n"
   ]
  },
  {
   "cell_type": "code",
   "execution_count": 92,
   "id": "1af3aa21",
   "metadata": {},
   "outputs": [
    {
     "data": {
      "text/plain": [
       "True"
      ]
     },
     "execution_count": 92,
     "metadata": {},
     "output_type": "execute_result"
    }
   ],
   "source": [
    "vowel_links(\"a very large appliance\")"
   ]
  },
  {
   "cell_type": "code",
   "execution_count": 93,
   "id": "a230fee0",
   "metadata": {},
   "outputs": [
    {
     "data": {
      "text/plain": [
       "True"
      ]
     },
     "execution_count": 93,
     "metadata": {},
     "output_type": "execute_result"
    }
   ],
   "source": [
    "vowel_links(\"go to edabit\")"
   ]
  },
  {
   "cell_type": "code",
   "execution_count": 94,
   "id": "a68490e7",
   "metadata": {},
   "outputs": [
    {
     "data": {
      "text/plain": [
       "False"
      ]
     },
     "execution_count": 94,
     "metadata": {},
     "output_type": "execute_result"
    }
   ],
   "source": [
    "vowel_links(\"an open fire\")"
   ]
  },
  {
   "cell_type": "code",
   "execution_count": 95,
   "id": "7ae878b9",
   "metadata": {},
   "outputs": [
    {
     "data": {
      "text/plain": [
       "True"
      ]
     },
     "execution_count": 95,
     "metadata": {},
     "output_type": "execute_result"
    }
   ],
   "source": [
    "vowel_links(\"a sudden applause\")"
   ]
  },
  {
   "cell_type": "code",
   "execution_count": 5,
   "id": "59826264",
   "metadata": {},
   "outputs": [
    {
     "data": {
      "text/plain": [
       "'d'"
      ]
     },
     "execution_count": 5,
     "metadata": {},
     "output_type": "execute_result"
    }
   ],
   "source": [
    "s=\"abcd\"\n",
    "s[-1]"
   ]
  },
  {
   "cell_type": "raw",
   "id": "05ae870a",
   "metadata": {},
   "source": [
    "2. You are given three inputs: a string, one letter, and a second letter.\n",
    "\n",
    "Write a function that returns True if every instance of the first letter occurs before every instance of the second letter.\n",
    "\n",
    "Examples\n",
    "\n",
    "first_before_second(\"a rabbit jumps joyfully\", \"a\", \"j\") ➞ True\n",
    "# Every instance of \"a\" occurs before every instance of \"j\".\n",
    "\n",
    "first_before_second(\"knaves knew about waterfalls\", \"k\", \"w\") ➞  True\n",
    "\n",
    "first_before_second(\"happy birthday\", \"a\", \"y\") ➞ False\n",
    "# The \"a\" in \"birthday\" occurs after the \"y\" in \"happy\".\n",
    "\n",
    "first_before_second(\"precarious kangaroos\", \"k\", \"a\") ➞ False\n"
   ]
  },
  {
   "cell_type": "code",
   "execution_count": 52,
   "id": "a26cba8a",
   "metadata": {},
   "outputs": [],
   "source": [
    "def first_before_second(s,a,b):\n",
    "    if s.rfind(a)<s.find(b):\n",
    "        #print(s.rfind(a))\n",
    "        #print(s.find(b))\n",
    "        return True\n",
    "    else:\n",
    "        return False"
   ]
  },
  {
   "cell_type": "code",
   "execution_count": 53,
   "id": "ea91bdf4",
   "metadata": {},
   "outputs": [
    {
     "data": {
      "text/plain": [
       "True"
      ]
     },
     "execution_count": 53,
     "metadata": {},
     "output_type": "execute_result"
    }
   ],
   "source": [
    "first_before_second(\"a rabbit jumps joyfully\", \"a\", \"j\")"
   ]
  },
  {
   "cell_type": "code",
   "execution_count": 54,
   "id": "c39fa3f3",
   "metadata": {},
   "outputs": [
    {
     "data": {
      "text/plain": [
       "True"
      ]
     },
     "execution_count": 54,
     "metadata": {},
     "output_type": "execute_result"
    }
   ],
   "source": [
    "first_before_second(\"knaves knew about waterfalls\", \"k\", \"w\")"
   ]
  },
  {
   "cell_type": "code",
   "execution_count": 55,
   "id": "23a9bac4",
   "metadata": {},
   "outputs": [
    {
     "data": {
      "text/plain": [
       "False"
      ]
     },
     "execution_count": 55,
     "metadata": {},
     "output_type": "execute_result"
    }
   ],
   "source": [
    "first_before_second(\"happy birthday\", \"a\", \"y\")"
   ]
  },
  {
   "cell_type": "code",
   "execution_count": 56,
   "id": "7edef4cb",
   "metadata": {},
   "outputs": [
    {
     "data": {
      "text/plain": [
       "False"
      ]
     },
     "execution_count": 56,
     "metadata": {},
     "output_type": "execute_result"
    }
   ],
   "source": [
    "first_before_second(\"precarious kangaroos\", \"k\", \"a\")"
   ]
  },
  {
   "cell_type": "raw",
   "id": "9049afbe",
   "metadata": {},
   "source": [
    "3. Create a function that returns the characters from a list or string r on odd or even positions, depending on the specifier s. The specifier will be \"odd\" for items on odd positions (1, 3, 5, ...) and \"even\" for items on even positions (2, 4, 6, ...).\n",
    "\n",
    "Examples\n",
    "\n",
    "char_at_pos([2, 4, 6, 8, 10], \"even\") ➞ [4, 8]\n",
    "# 4 & 8 occupy the 2nd & 4th positions\n",
    "\n",
    "char_at_pos(\"EDABIT\", \"odd\") ➞ \"EAI\"\n",
    "# \"E\", \"A\" and \"I\" occupy the 1st, 3rd and 5th positions\n",
    "\n",
    "char_at_pos([\"A\", \"R\", \"B\", \"I\", \"T\", \"R\", \"A\", \"R\", \"I\", \"L\", \"Y\"], \"odd\") ➞ [\"A\", \"B\", \"T\", \"A\", \"I\", \"Y\"]\n"
   ]
  },
  {
   "cell_type": "code",
   "execution_count": 64,
   "id": "f78a10c2",
   "metadata": {},
   "outputs": [],
   "source": [
    "def char_at_pos(r, s):\n",
    "    return r[s == 'even'::2]"
   ]
  },
  {
   "cell_type": "code",
   "execution_count": 65,
   "id": "ab0b6e9b",
   "metadata": {},
   "outputs": [
    {
     "data": {
      "text/plain": [
       "[4, 8]"
      ]
     },
     "execution_count": 65,
     "metadata": {},
     "output_type": "execute_result"
    }
   ],
   "source": [
    "char_at_pos([2, 4, 6, 8, 10], \"even\") "
   ]
  },
  {
   "cell_type": "code",
   "execution_count": 66,
   "id": "6bb3bb4c",
   "metadata": {},
   "outputs": [
    {
     "data": {
      "text/plain": [
       "'EAI'"
      ]
     },
     "execution_count": 66,
     "metadata": {},
     "output_type": "execute_result"
    }
   ],
   "source": [
    "char_at_pos(\"EDABIT\", \"odd\") "
   ]
  },
  {
   "cell_type": "code",
   "execution_count": 71,
   "id": "ddb8de50",
   "metadata": {},
   "outputs": [
    {
     "data": {
      "text/plain": [
       "['A', 'B', 'T', 'A', 'I', 'Y']"
      ]
     },
     "execution_count": 71,
     "metadata": {},
     "output_type": "execute_result"
    }
   ],
   "source": [
    "char_at_pos([\"A\", \"R\", \"B\", \"I\", \"T\", \"R\", \"A\", \"R\", \"I\", \"L\", \"Y\"], \"odd\")"
   ]
  },
  {
   "cell_type": "raw",
   "id": "25cfbf07",
   "metadata": {},
   "source": [
    "4. Write a function that returns the greatest common divisor of all list elements. If the greatest common divisor is 1, return 1.\n",
    "\n",
    "Examples\n",
    "\n",
    "GCD([10, 20, 40]) ➞ 10\n",
    "\n",
    "GCD([1, 2, 3, 100]) ➞ 1\n",
    "\n",
    "GCD([1024, 192, 2048, 512]) ➞ 64\n"
   ]
  },
  {
   "cell_type": "code",
   "execution_count": 73,
   "id": "b5ff9ac3",
   "metadata": {},
   "outputs": [],
   "source": [
    "import math\n",
    "def GCD(lst):\n",
    "    return math.gcd(*lst)"
   ]
  },
  {
   "cell_type": "code",
   "execution_count": 74,
   "id": "360dfd9d",
   "metadata": {},
   "outputs": [
    {
     "data": {
      "text/plain": [
       "10"
      ]
     },
     "execution_count": 74,
     "metadata": {},
     "output_type": "execute_result"
    }
   ],
   "source": [
    "GCD([10, 20, 40])"
   ]
  },
  {
   "cell_type": "code",
   "execution_count": 75,
   "id": "dd1d81ec",
   "metadata": {},
   "outputs": [
    {
     "data": {
      "text/plain": [
       "1"
      ]
     },
     "execution_count": 75,
     "metadata": {},
     "output_type": "execute_result"
    }
   ],
   "source": [
    "GCD([1, 2, 3, 100])"
   ]
  },
  {
   "cell_type": "code",
   "execution_count": 76,
   "id": "ef04e059",
   "metadata": {},
   "outputs": [
    {
     "data": {
      "text/plain": [
       "64"
      ]
     },
     "execution_count": 76,
     "metadata": {},
     "output_type": "execute_result"
    }
   ],
   "source": [
    "GCD([1024, 192, 2048, 512])"
   ]
  },
  {
   "cell_type": "raw",
   "id": "0a5b325b",
   "metadata": {},
   "source": [
    "5. A number/string is a palindrome if the digits/characters are the same when read both forward and backward. Examples include \"racecar\" and 12321. Given a positive number n, check if n or the binary representation of n is palindromic. Return the following:\n",
    "\n",
    "- \"Decimal only.\" if only n is a palindrome.\n",
    "- \"Binary only.\" if only the binary representation of n is a palindrome.\n",
    "- \"Decimal and binary.\" if both are palindromes.\n",
    "- \"Neither!\" if neither are palindromes.\n",
    "\n",
    "Examples\n",
    "\n",
    "palindrome_type(1306031) ➞ \"Decimal only.\"\n",
    "# decimal = 1306031\n",
    "# binary  = \"100111110110110101111\"\n",
    "\n",
    "palindrome_type(427787) ➞ \"Binary only.\"\n",
    "# decimal = 427787\n",
    "# binary  = \"1101000011100001011\"\n",
    "\n",
    "palindrome_type(313) ➞ \"Decimal and binary.\"\n",
    "# decimal = 313\n",
    "# binary  = 100111001\n",
    "\n",
    "palindrome_type(934) ➞ \"Neither!\"\n",
    "# decimal = 934\n",
    "# binary  = \"1110100110\"\n"
   ]
  },
  {
   "cell_type": "code",
   "execution_count": 82,
   "id": "db11ab70",
   "metadata": {},
   "outputs": [],
   "source": [
    "def palindrome_type(n):\n",
    "    temp=n\n",
    "    b=bin(n)[2:]\n",
    "    rev=0\n",
    "    while(n>0):\n",
    "        dig=n%10\n",
    "        rev=rev*10+dig\n",
    "        n=n//10\n",
    "    if(temp==rev) and b==b[::-1]:\n",
    "        return \"Decimal and binary\"\n",
    "    elif (temp==rev):\n",
    "        return \"Decimal only\"\n",
    "    elif b==b[::-1]:\n",
    "        return \"Binary only\"\n",
    "    else:\n",
    "        return \"Neither\"\n",
    "    \n",
    "    "
   ]
  },
  {
   "cell_type": "code",
   "execution_count": 83,
   "id": "03244451",
   "metadata": {},
   "outputs": [
    {
     "data": {
      "text/plain": [
       "'Decimal only'"
      ]
     },
     "execution_count": 83,
     "metadata": {},
     "output_type": "execute_result"
    }
   ],
   "source": [
    "palindrome_type(1306031) "
   ]
  },
  {
   "cell_type": "code",
   "execution_count": 84,
   "id": "3f56dce0",
   "metadata": {},
   "outputs": [
    {
     "data": {
      "text/plain": [
       "'Binary only'"
      ]
     },
     "execution_count": 84,
     "metadata": {},
     "output_type": "execute_result"
    }
   ],
   "source": [
    "palindrome_type(427787)"
   ]
  },
  {
   "cell_type": "code",
   "execution_count": 85,
   "id": "71467e5c",
   "metadata": {},
   "outputs": [
    {
     "data": {
      "text/plain": [
       "'Decimal and binary'"
      ]
     },
     "execution_count": 85,
     "metadata": {},
     "output_type": "execute_result"
    }
   ],
   "source": [
    "palindrome_type(313)"
   ]
  },
  {
   "cell_type": "code",
   "execution_count": 86,
   "id": "c9d6d4fa",
   "metadata": {},
   "outputs": [
    {
     "data": {
      "text/plain": [
       "'Neither'"
      ]
     },
     "execution_count": 86,
     "metadata": {},
     "output_type": "execute_result"
    }
   ],
   "source": [
    "palindrome_type(934)"
   ]
  },
  {
   "cell_type": "code",
   "execution_count": null,
   "id": "d4b83688",
   "metadata": {},
   "outputs": [],
   "source": []
  }
 ],
 "metadata": {
  "kernelspec": {
   "display_name": "Python 3 (ipykernel)",
   "language": "python",
   "name": "python3"
  },
  "language_info": {
   "codemirror_mode": {
    "name": "ipython",
    "version": 3
   },
   "file_extension": ".py",
   "mimetype": "text/x-python",
   "name": "python",
   "nbconvert_exporter": "python",
   "pygments_lexer": "ipython3",
   "version": "3.9.7"
  }
 },
 "nbformat": 4,
 "nbformat_minor": 5
}
