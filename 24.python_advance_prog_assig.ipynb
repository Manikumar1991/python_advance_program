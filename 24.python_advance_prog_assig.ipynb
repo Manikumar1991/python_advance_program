{
 "cells": [
  {
   "cell_type": "markdown",
   "id": "a54b1dac",
   "metadata": {},
   "source": [
    "1. Implement a class iterator to flatten a nested list of lists of integers. Each list element is either an integer or a list. There can be many levels of nested lists in lists.\n",
    "\n",
    "The class initializes with a nested list. It also has two methods:\n",
    "\n",
    "  1. next() returns an integer in the order of appearance.\n",
    "  2. hasNext() returns True / False regarding if all integers have been retrieved or not.\n",
    "\n",
    "Write the Class implementation for three required methods.\n",
    "\n",
    "Examples\n",
    "\n",
    "ni, actual = NestedIterator([[1, 1], 2, [1, 1]]), []\n",
    "while ni.hasNext():\n",
    "    actual.append(ni.next())\n",
    "actual ➞ [1, 1, 2, 1, 1]\n",
    "\n",
    "ni, actual = NestedIterator([1, [4, [6]]]), []\n",
    "while ni.hasNext():\n",
    "    actual.append(ni.next())\n",
    "actual ➞ [1, 4, 6]\n",
    "\n",
    "ni, actual = NestedIterator([[[]], []]), []\n",
    "while ni.hasNext():\n",
    "    actual.append(ni.next())\n",
    "actual ➞ []"
   ]
  },
  {
   "cell_type": "code",
   "execution_count": 23,
   "id": "85562379",
   "metadata": {},
   "outputs": [],
   "source": [
    "class NestedIterator:\n",
    "    def __init__(self,nestedlist):\n",
    "        self.list=nestedlist        #[[1,2],2,[8,9]]\n",
    "        self.flattern_list=[]\n",
    "        self.test(self.list)\n",
    "    def test(self,nestedlist):\n",
    "        for item in nestedlist:\n",
    "            if isinstance(item,int):\n",
    "                self.flattern_list.append(item)\n",
    "            else:\n",
    "                self.test(item)\n",
    "    def next(self):\n",
    "        return self.flattern_list.pop(0)\n",
    "            \n",
    "    def hasNext(self):\n",
    "        return True if len(self.flattern_list)>0 else False   "
   ]
  },
  {
   "cell_type": "code",
   "execution_count": 24,
   "id": "231736b1",
   "metadata": {},
   "outputs": [],
   "source": [
    "ni,actual = NestedIterator([[1, 1], 2, [1, 1]]), []"
   ]
  },
  {
   "cell_type": "code",
   "execution_count": 25,
   "id": "dd07848e",
   "metadata": {},
   "outputs": [
    {
     "name": "stdout",
     "output_type": "stream",
     "text": [
      "actual----[1, 1, 2, 1, 1]\n"
     ]
    }
   ],
   "source": [
    "while ni.hasNext():\n",
    "    actual.append(ni.next())\n",
    "print(f'actual----{actual}')"
   ]
  },
  {
   "cell_type": "code",
   "execution_count": 26,
   "id": "c0abbab1",
   "metadata": {},
   "outputs": [
    {
     "name": "stdout",
     "output_type": "stream",
     "text": [
      "actual----[1, 4, 6]\n"
     ]
    }
   ],
   "source": [
    "ni, actual = NestedIterator([1, [4, [6]]]), []\n",
    "while ni.hasNext():\n",
    "    actual.append(ni.next())\n",
    "print(f'actual----{actual}')    "
   ]
  },
  {
   "cell_type": "code",
   "execution_count": 27,
   "id": "0cb65544",
   "metadata": {},
   "outputs": [
    {
     "name": "stdout",
     "output_type": "stream",
     "text": [
      "actual----[]\n"
     ]
    }
   ],
   "source": [
    "ni, actual = NestedIterator([[[]], []]), []\n",
    "while ni.hasNext():\n",
    "    actual.append(ni.next())\n",
    "print(f'actual----{actual}')    "
   ]
  },
  {
   "cell_type": "markdown",
   "id": "4ea49622",
   "metadata": {},
   "source": [
    "3. Given a 3x3 matrix of a completed tic-tac-toe game, create a function that returns whether the game is a win for \"X\", \"O\", or a \"Draw\", where \"X\" and \"O\" represent themselves on the matrix, and \"E\" represents an empty spot.\n",
    "\n",
    "Examples\n",
    "\n",
    "tic_tac_toe([\n",
    "  [\"X\", \"O\", \"X\"],\n",
    "  [\"O\", \"X\",  \"O\"],\n",
    "  [\"O\", \"X\",  \"X\"]\n",
    "]) ➞ \"X\"\n",
    "\n",
    "tic_tac_toe([\n",
    "  [\"O\", \"O\", \"O\"],\n",
    "  [\"O\", \"X\", \"X\"],\n",
    "  [\"E\", \"X\", \"X\"]\n",
    "]) ➞ \"O\"\n",
    "\n",
    "tic_tac_toe([\n",
    "  [\"X\", \"X\", \"O\"],\n",
    "  [\"O\", \"O\", \"X\"],\n",
    "  [\"X\", \"X\", \"O\"]\n",
    "]) ➞ \"Draw\""
   ]
  },
  {
   "cell_type": "code",
   "execution_count": 7,
   "id": "cf58a82e",
   "metadata": {},
   "outputs": [],
   "source": [
    "def tic_tac_toe(mat):\n",
    "    output=None\n",
    "    #check horizontal search\n",
    "    for ele in mat:\n",
    "        if len(list(set(ele)))==1:\n",
    "            output=list(set(ele))[0]\n",
    "            #break\n",
    "    if output==None:       \n",
    "    # check vertical search\n",
    "        for i in range(len(mat)):\n",
    "            temp=[]\n",
    "            for j in range(len(mat)):temp.append(mat[j][i])\n",
    "            if len(list(set(temp)))==1:ouptut=list(set(temp))[0]\n",
    "    if output == None:\n",
    "        temp = []\n",
    "        for ele in range(len(mat)):\n",
    "            temp.append(mat[ele][ele])\n",
    "        if len(list(set(temp))) == 1: output = list(set(temp))[0]\n",
    "    #check another diagonal search \n",
    "    if output==None:\n",
    "        temp=[]\n",
    "        for ele in range(len(mat)):\n",
    "            temp.append(mat[ele][len(mat)-1-ele])\n",
    "        if len(list(set(temp)))==1:\n",
    "            ouptut=list(set(temp))[0]\n",
    "    #draw condition\n",
    "    if output==None:\n",
    "        output=\"Draw\"         \n",
    "       \n",
    "    return output"
   ]
  },
  {
   "cell_type": "code",
   "execution_count": 8,
   "id": "24c38c1f",
   "metadata": {},
   "outputs": [
    {
     "data": {
      "text/plain": [
       "'X'"
      ]
     },
     "execution_count": 8,
     "metadata": {},
     "output_type": "execute_result"
    }
   ],
   "source": [
    "tic_tac_toe([\n",
    "  [\"X\", \"O\", \"X\"],\n",
    "  [\"O\", \"X\",  \"O\"],\n",
    "  [\"O\", \"X\",  \"X\"]\n",
    "]) "
   ]
  },
  {
   "cell_type": "code",
   "execution_count": 9,
   "id": "07d3ab2f",
   "metadata": {},
   "outputs": [
    {
     "data": {
      "text/plain": [
       "'O'"
      ]
     },
     "execution_count": 9,
     "metadata": {},
     "output_type": "execute_result"
    }
   ],
   "source": [
    "tic_tac_toe([\n",
    "  [\"O\", \"O\", \"O\"],\n",
    "  [\"O\", \"X\", \"X\"],\n",
    "  [\"E\", \"X\", \"X\"]\n",
    "])"
   ]
  },
  {
   "cell_type": "code",
   "execution_count": 10,
   "id": "bbfc9003",
   "metadata": {},
   "outputs": [
    {
     "data": {
      "text/plain": [
       "'Draw'"
      ]
     },
     "execution_count": 10,
     "metadata": {},
     "output_type": "execute_result"
    }
   ],
   "source": [
    "tic_tac_toe([\n",
    "  [\"X\", \"X\", \"O\"],\n",
    "  [\"O\", \"O\", \"X\"],\n",
    "  [\"X\", \"X\", \"O\"]\n",
    "])"
   ]
  },
  {
   "cell_type": "markdown",
   "id": "4eee635e",
   "metadata": {},
   "source": [
    "4. Your computer might have been infected by a virus! Create a function that finds the viruses in files and removes them from your computer.\n",
    "\n",
    "Examples\n",
    "\n",
    "remove_virus(\"PC Files: spotifysetup.exe, virus.exe, dog.jpg\") ➞ \"PC Files: spotifysetup.exe, dog.jpg\"\n",
    "\n",
    "remove_virus(\"PC Files: antivirus.exe, cat.pdf, lethalmalware.exe, dangerousvirus.exe \") ➞ \"PC Files: antivirus.exe, cat.pdf\"\n",
    "\n",
    "remove_virus(\"PC Files: notvirus.exe, funnycat.gif\") ➞ \"PC Files: notvirus.exe, funnycat.gif\")\n"
   ]
  },
  {
   "cell_type": "code",
   "execution_count": 8,
   "id": "5aff4455",
   "metadata": {},
   "outputs": [],
   "source": [
    "import re\n",
    "def remove_virus(string):\n",
    "    lst=[x.strip() for x in re.split(\",\",string)]\n",
    "    output=[]\n",
    "    for ele in lst:\n",
    "        if ele not in [\"virus.exe\",\"lethalmalware.exe\",\"dangerousvirus.exe\"]:\n",
    "            output.append(ele)\n",
    "    return \",\".join(output)          "
   ]
  },
  {
   "cell_type": "code",
   "execution_count": 9,
   "id": "01271160",
   "metadata": {},
   "outputs": [
    {
     "data": {
      "text/plain": [
       "'PC Files: spotifysetup.exe,dog.jpg'"
      ]
     },
     "execution_count": 9,
     "metadata": {},
     "output_type": "execute_result"
    }
   ],
   "source": [
    "remove_virus(\"PC Files: spotifysetup.exe, virus.exe, dog.jpg\")"
   ]
  },
  {
   "cell_type": "code",
   "execution_count": 10,
   "id": "7006f5a1",
   "metadata": {},
   "outputs": [
    {
     "data": {
      "text/plain": [
       "'PC Files: antivirus.exe,cat.pdf'"
      ]
     },
     "execution_count": 10,
     "metadata": {},
     "output_type": "execute_result"
    }
   ],
   "source": [
    "remove_virus(\"PC Files: antivirus.exe, cat.pdf, lethalmalware.exe, dangerousvirus.exe \")"
   ]
  },
  {
   "cell_type": "code",
   "execution_count": 11,
   "id": "bcd1f2cb",
   "metadata": {},
   "outputs": [
    {
     "data": {
      "text/plain": [
       "'PC Files: notvirus.exe,funnycat.gif'"
      ]
     },
     "execution_count": 11,
     "metadata": {},
     "output_type": "execute_result"
    }
   ],
   "source": [
    "remove_virus(\"PC Files: notvirus.exe, funnycat.gif\")"
   ]
  },
  {
   "cell_type": "code",
   "execution_count": 11,
   "id": "16cac12e",
   "metadata": {},
   "outputs": [],
   "source": [
    "s=\"PC Files: spotifysetup.exe, virus.exe, dog.jpg\""
   ]
  },
  {
   "cell_type": "code",
   "execution_count": 22,
   "id": "298a4d68",
   "metadata": {},
   "outputs": [
    {
     "data": {
      "text/plain": [
       "['PC Files: spotifysetup.exe', 'virus.exe', 'dog.jpg']"
      ]
     },
     "execution_count": 22,
     "metadata": {},
     "output_type": "execute_result"
    }
   ],
   "source": [
    "import re\n",
    "[x.strip() for x in re.split(\",\",s)]"
   ]
  },
  {
   "cell_type": "markdown",
   "id": "ce2a9430",
   "metadata": {},
   "source": [
    "5. In a video game, a meteor will fall toward the main character's home planet. Given the meteor's trajectory as a string in the form y = mx + b and the character's position as a tuple of (x, y), return True if the meteor will hit the character and False if it will not.\n",
    "\n",
    "Examples\n",
    "\n",
    "will_hit(\"y = 2x - 5\", (0, 0)) ➞ False\n",
    "\n",
    "will_hit(\"y = -4x + 6\", (1, 2)) ➞ True\n",
    "\n",
    "will_hit(\"y = 2x + 6\", (3, 2)) ➞ False\n"
   ]
  },
  {
   "cell_type": "code",
   "execution_count": 60,
   "id": "01e9f789",
   "metadata": {},
   "outputs": [],
   "source": [
    "def will_hit(string,tup):\n",
    "    string=string.split(\" \")\n",
    "    temp=[]\n",
    "    for ele in string:\n",
    "        if 'x' in ele or 'y' in ele:\n",
    "            if len(ele)==1:\n",
    "                temp.append(ele.replace('x',str(tup[0]))) if 'x' in ele else temp.append(ele.replace('y',str(tup[1])))\n",
    "                #print(temp)\n",
    "            else:\n",
    "                temp.append(ele.replace('x',str('*'+str(tup[0])))) if 'x' in ele else temp.append(ele.replace('y',f'*{tup[1]}'))\n",
    "        else:\n",
    "            temp.append(\"==\") if ele==\"=\" else temp.append(ele)\n",
    "            \n",
    "    return eval(\"\".join(temp))\n",
    "    #return temp\n",
    "            "
   ]
  },
  {
   "cell_type": "code",
   "execution_count": 61,
   "id": "7896a90b",
   "metadata": {},
   "outputs": [
    {
     "data": {
      "text/plain": [
       "False"
      ]
     },
     "execution_count": 61,
     "metadata": {},
     "output_type": "execute_result"
    }
   ],
   "source": [
    "will_hit(\"y = 2x - 5\", (0, 0)) "
   ]
  },
  {
   "cell_type": "code",
   "execution_count": 62,
   "id": "b27d0076",
   "metadata": {},
   "outputs": [
    {
     "data": {
      "text/plain": [
       "True"
      ]
     },
     "execution_count": 62,
     "metadata": {},
     "output_type": "execute_result"
    }
   ],
   "source": [
    "will_hit(\"y = -4x + 6\", (1, 2)) "
   ]
  },
  {
   "cell_type": "code",
   "execution_count": 63,
   "id": "6814a361",
   "metadata": {},
   "outputs": [
    {
     "data": {
      "text/plain": [
       "False"
      ]
     },
     "execution_count": 63,
     "metadata": {},
     "output_type": "execute_result"
    }
   ],
   "source": [
    "will_hit(\"y = 2x + 6\", (3, 2))"
   ]
  }
 ],
 "metadata": {
  "kernelspec": {
   "display_name": "Python 3 (ipykernel)",
   "language": "python",
   "name": "python3"
  },
  "language_info": {
   "codemirror_mode": {
    "name": "ipython",
    "version": 3
   },
   "file_extension": ".py",
   "mimetype": "text/x-python",
   "name": "python",
   "nbconvert_exporter": "python",
   "pygments_lexer": "ipython3",
   "version": "3.9.7"
  }
 },
 "nbformat": 4,
 "nbformat_minor": 5
}
