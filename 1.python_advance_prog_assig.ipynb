{
 "cells": [
  {
   "cell_type": "code",
   "execution_count": null,
   "id": "7940fbf4",
   "metadata": {},
   "outputs": [],
   "source": [
    "'''\n",
    "1. Write a function that takes a list of lists and returns the value of all of the symbols in it, where each symbol adds \n",
    "or takes something from the total score. Symbol values:\n",
    "\n",
    "# = 5\n",
    "O = 3\n",
    "X = 1\n",
    "! = -1\n",
    "!! = -3\n",
    "!!! = -5\n",
    "\n",
    "A list of lists containing 2 #s, a O, and a !!! would equal (0 + 5 + 5 + 3 - 5) 8.\n",
    "\n",
    "If the final score is negative, return 0 (e.g. 3 #s, 3 !!s, 2 !!!s and a \n",
    "X would be (0 + 5 + 5 + 5 - 3 - 3 - 3 - 5 - 5 + 1) -3, \n",
    "so return 0.\n",
    "\n",
    "Examples\n",
    "\n",
    "check_score([\n",
    "  [\"#\", \"!\"],\n",
    "  [\"!!\", \"X\"]\n",
    "]) ➞ 2\n",
    "\n",
    "check_score([\n",
    "  [\"!!!\", \"O\", \"!\"],\n",
    "  [\"X\", \"#\", \"!!!\"],\n",
    "  [\"!!\", \"X\", \"O\"]\n",
    "]) ➞ 0\n",
    "'''"
   ]
  },
  {
   "cell_type": "code",
   "execution_count": 17,
   "id": "d4d39603",
   "metadata": {},
   "outputs": [],
   "source": [
    "def check_score(lst):\n",
    "    sum=0\n",
    "    for j in lst:\n",
    "        for i in j:\n",
    "            #print(i)\n",
    "            if i==\"#\":\n",
    "                sum=sum+5\n",
    "            elif i==\"O\":\n",
    "                sum=sum+3\n",
    "            elif i==\"X\":\n",
    "                sum=sum+1\n",
    "            elif i==\"!\":\n",
    "                sum=sum-1\n",
    "            elif i==\"!!\":\n",
    "                sum=sum-3\n",
    "            elif i==\"!!!\":\n",
    "                sum=sum-5\n",
    "    return sum            \n",
    "                "
   ]
  },
  {
   "cell_type": "code",
   "execution_count": 18,
   "id": "eb12ca30",
   "metadata": {},
   "outputs": [
    {
     "data": {
      "text/plain": [
       "2"
      ]
     },
     "execution_count": 18,
     "metadata": {},
     "output_type": "execute_result"
    }
   ],
   "source": [
    "check_score([[\"#\", \"!\"],[\"!!\", \"X\"]]) "
   ]
  },
  {
   "cell_type": "code",
   "execution_count": 19,
   "id": "d0746408",
   "metadata": {},
   "outputs": [
    {
     "data": {
      "text/plain": [
       "-1"
      ]
     },
     "execution_count": 19,
     "metadata": {},
     "output_type": "execute_result"
    }
   ],
   "source": [
    "check_score([\n",
    "  [\"!!!\", \"O\", \"!\"],\n",
    "  [\"X\", \"#\", \"!!!\"],\n",
    "  [\"!!\", \"X\", \"O\"]\n",
    "]) "
   ]
  },
  {
   "cell_type": "code",
   "execution_count": null,
   "id": "ad4eac1b",
   "metadata": {},
   "outputs": [],
   "source": [
    "'''\n",
    "2. Create a function that takes a variable number of arguments, each argument representing the number of items in a group,\n",
    "and returns the number of permutations (combinations) of items that you could get by taking one item from each group.\n",
    "\n",
    "Examples\n",
    "\n",
    "combinations(2, 3) ➞ 6\n",
    "\n",
    "combinations(3, 7, 4) ➞ 84\n",
    "\n",
    "combinations(2, 3, 4, 5) ➞ 120\n",
    "'''"
   ]
  },
  {
   "cell_type": "code",
   "execution_count": 20,
   "id": "ee3caca3",
   "metadata": {},
   "outputs": [],
   "source": [
    "def combinations(*args):\n",
    "    res=1\n",
    "    for i in args:\n",
    "        res=res*i\n",
    "    return res    "
   ]
  },
  {
   "cell_type": "code",
   "execution_count": 21,
   "id": "1a2fbcaf",
   "metadata": {},
   "outputs": [
    {
     "data": {
      "text/plain": [
       "6"
      ]
     },
     "execution_count": 21,
     "metadata": {},
     "output_type": "execute_result"
    }
   ],
   "source": [
    "combinations(2, 3)"
   ]
  },
  {
   "cell_type": "code",
   "execution_count": 22,
   "id": "d109d322",
   "metadata": {},
   "outputs": [
    {
     "data": {
      "text/plain": [
       "84"
      ]
     },
     "execution_count": 22,
     "metadata": {},
     "output_type": "execute_result"
    }
   ],
   "source": [
    "combinations(3, 7, 4)"
   ]
  },
  {
   "cell_type": "code",
   "execution_count": 23,
   "id": "f19c5964",
   "metadata": {},
   "outputs": [
    {
     "data": {
      "text/plain": [
       "120"
      ]
     },
     "execution_count": 23,
     "metadata": {},
     "output_type": "execute_result"
    }
   ],
   "source": [
    "combinations(2, 3, 4, 5)"
   ]
  },
  {
   "cell_type": "code",
   "execution_count": null,
   "id": "dca86475",
   "metadata": {},
   "outputs": [],
   "source": [
    "'''\n",
    "3. Create a function that takes a string as an argument and returns the Morse code equivalent.\n",
    "\n",
    "Examples\n",
    "\n",
    "encode_morse(\"EDABBIT CHALLENGE\") ➞ \". -.. .- -... -... .. -   -.-. .... .- .-.. .-.. . -. --. .\"\n",
    "\n",
    "encode_morse(\"HELP ME !\") ➞ \".... . .-.. .--.   -- .   -.-.--\"\n",
    "\n",
    "This dictionary can be used for coding:\n",
    "\n",
    "char_to_dots = {\n",
    "  'A': '.-', 'B': '-...', 'C': '-.-.', 'D': '-..', 'E': '.', 'F': '..-.',\n",
    "  'G': '--.', 'H': '....', 'I': '..', 'J': '.---', 'K': '-.-', 'L': '.-..',\n",
    "  'M': '--', 'N': '-.', 'O': '---', 'P': '.--.', 'Q': '--.-', 'R': '.-.',\n",
    "  'S': '...', 'T': '-', 'U': '..-', 'V': '...-', 'W': '.--', 'X': '-..-',\n",
    "  'Y': '-.--', 'Z': '--..', ' ': ' ', '0': '-----',\n",
    "  '1': '.----', '2': '..---', '3': '...--', '4': '....-', '5': '.....',\n",
    "  '6': '-....', '7': '--...', '8': '---..', '9': '----.',\n",
    "  '&': '.-...', \"'\": '.----.', '@': '.--.-.', ')': '-.--.-', '(': '-.--.',\n",
    "  ':': '---...', ',': '--..--', '=': '-...-', '!': '-.-.--', '.': '.-.-.-',\n",
    "  '-': '-....-', '+': '.-.-.', '\"': '.-..-.', '?': '..--..', '/': '-..-.'\n",
    "}\n",
    "'''"
   ]
  },
  {
   "cell_type": "code",
   "execution_count": 31,
   "id": "a807f529",
   "metadata": {},
   "outputs": [],
   "source": [
    "char_to_dots = {\n",
    "  'A': '.-', 'B': '-...', 'C': '-.-.', 'D': '-..', 'E': '.', 'F': '..-.',\n",
    "  'G': '--.', 'H': '....', 'I': '..', 'J': '.---', 'K': '-.-', 'L': '.-..',\n",
    "  'M': '--', 'N': '-.', 'O': '---', 'P': '.--.', 'Q': '--.-', 'R': '.-.',\n",
    "  'S': '...', 'T': '-', 'U': '..-', 'V': '...-', 'W': '.--', 'X': '-..-',\n",
    "  'Y': '-.--', 'Z': '--..', ' ': ' ', '0': '-----',\n",
    "  '1': '.----', '2': '..---', '3': '...--', '4': '....-', '5': '.....',\n",
    "  '6': '-....', '7': '--...', '8': '---..', '9': '----.',\n",
    "  '&': '.-...', \"'\": '.----.', '@': '.--.-.', ')': '-.--.-', '(': '-.--.',\n",
    "  ':': '---...', ',': '--..--', '=': '-...-', '!': '-.-.--', '.': '.-.-.-',\n",
    "  '-': '-....-', '+': '.-.-.', '\"': '.-..-.', '?': '..--..', '/': '-..-.'\n",
    "}\n",
    "def encode_morse(str):\n",
    "    morsecode=''\n",
    "    for i in str:\n",
    "        morsecode=morsecode+char_to_dots[i]+' '\n",
    "    return morsecode    "
   ]
  },
  {
   "cell_type": "code",
   "execution_count": 32,
   "id": "aa7163be",
   "metadata": {},
   "outputs": [
    {
     "data": {
      "text/plain": [
       "'. -.. .- -... -... .. -   -.-. .... .- .-.. .-.. . -. --. . '"
      ]
     },
     "execution_count": 32,
     "metadata": {},
     "output_type": "execute_result"
    }
   ],
   "source": [
    "encode_morse(\"EDABBIT CHALLENGE\")"
   ]
  },
  {
   "cell_type": "code",
   "execution_count": 33,
   "id": "b8e92f41",
   "metadata": {},
   "outputs": [
    {
     "data": {
      "text/plain": [
       "'.... . .-.. .--.   -- .   -.-.-- '"
      ]
     },
     "execution_count": 33,
     "metadata": {},
     "output_type": "execute_result"
    }
   ],
   "source": [
    "encode_morse(\"HELP ME !\") "
   ]
  },
  {
   "cell_type": "code",
   "execution_count": null,
   "id": "dc15f237",
   "metadata": {},
   "outputs": [],
   "source": [
    "'''\n",
    "4.  Write a function that takes a number and returns True if it's a prime; False otherwise. \n",
    "The number can be 2^64-1 (2 to the power of 63, not XOR). With the standard technique it would be O(2^64-1), \n",
    "which is much too large for the 10 second time limit.\n",
    "\n",
    "Examples\n",
    "\n",
    "prime(7) ➞ True\n",
    "\n",
    "prime(56963) ➞ True\n",
    "\n",
    "prime(5151512515524) ➞ False\n",
    "'''"
   ]
  },
  {
   "cell_type": "code",
   "execution_count": 13,
   "id": "580a2f7f",
   "metadata": {},
   "outputs": [],
   "source": [
    "def prime1(n,prime):\n",
    "    for i in range(0, n+1):\n",
    "        prime[i] = True\n",
    "    p=2\n",
    "    while (p * p <= n):\n",
    "        if (prime[p] == True) :\n",
    "            for i in range(p * 2, n + 1, p):\n",
    "                prime[i] = False\n",
    "        p += 1\n",
    "\n",
    "def prime(n):\n",
    "    prime= [0]*(n+1)\n",
    "    prime1(n, prime)\n",
    "    k =2\n",
    "    while(((1 << k) - 1) <= n ):\n",
    "        num = (1 << k) - 1\n",
    "        #print(\"num\",num)\n",
    "        if prime[num]:\n",
    "            print(num ,end= \" \")\n",
    "            k += 1\n",
    "           \n",
    "  "
   ]
  },
  {
   "cell_type": "code",
   "execution_count": 14,
   "id": "8be5135f",
   "metadata": {},
   "outputs": [
    {
     "name": "stdout",
     "output_type": "stream",
     "text": [
      "3 7 "
     ]
    }
   ],
   "source": [
    "prime(7)"
   ]
  },
  {
   "cell_type": "code",
   "execution_count": null,
   "id": "7af59c6a",
   "metadata": {},
   "outputs": [],
   "source": [
    "'''\n",
    "5.  Create a function that converts a word to a bitstring and then to a boolean list based on the following criteria:\n",
    "\n",
    "    1. Locate the position of the letter in the English alphabet (from 1 to 26).\n",
    "    2. Odd positions will be represented as 1 and 0 otherwise.\n",
    "    3. Convert the represented positions to boolean values, 1 for True and 0 for False.\n",
    "    4. Store the conversions into an array.\n",
    "\n",
    " Examples\n",
    "\n",
    "to_boolean_list(\"deep\") ➞ [False, True, True, False]\n",
    "# deep converts to 0110\n",
    "# d is the 4th alphabet - 0\n",
    "# e is the 5th alphabet - 1\n",
    "# e is the 5th alphabet - 1\n",
    "# p is the 16th alphabet - 0\n",
    "\n",
    "to_boolean_list(\"loves\") ➞ [False, True, False, True, True]\n",
    "\n",
    "to_boolean_list(\"tesh\") ➞ [False, True, True, False]\n",
    "\n",
    "'''"
   ]
  },
  {
   "cell_type": "code",
   "execution_count": 33,
   "id": "d5c15af1",
   "metadata": {},
   "outputs": [],
   "source": [
    "def to_boolean_list(str):\n",
    "    l=[]\n",
    "    for i in str:\n",
    "        if (ord(i)-1)%2==0:\n",
    "            l.append(1)\n",
    "        else :\n",
    "            l.append(0)\n",
    "    b=[bool(i) for i in l]  \n",
    "    return b\n",
    "            "
   ]
  },
  {
   "cell_type": "code",
   "execution_count": 34,
   "id": "1406cbf9",
   "metadata": {},
   "outputs": [
    {
     "data": {
      "text/plain": [
       "[False, True, True, False]"
      ]
     },
     "execution_count": 34,
     "metadata": {},
     "output_type": "execute_result"
    }
   ],
   "source": [
    "to_boolean_list(\"deep\")"
   ]
  },
  {
   "cell_type": "code",
   "execution_count": 35,
   "id": "0d238eb8",
   "metadata": {},
   "outputs": [
    {
     "data": {
      "text/plain": [
       "[False, True, False, True, True]"
      ]
     },
     "execution_count": 35,
     "metadata": {},
     "output_type": "execute_result"
    }
   ],
   "source": [
    "to_boolean_list(\"loves\")"
   ]
  },
  {
   "cell_type": "code",
   "execution_count": 36,
   "id": "149c8f3f",
   "metadata": {},
   "outputs": [
    {
     "data": {
      "text/plain": [
       "[False, True, True, False]"
      ]
     },
     "execution_count": 36,
     "metadata": {},
     "output_type": "execute_result"
    }
   ],
   "source": [
    "to_boolean_list(\"tesh\") "
   ]
  }
 ],
 "metadata": {
  "kernelspec": {
   "display_name": "Python 3 (ipykernel)",
   "language": "python",
   "name": "python3"
  },
  "language_info": {
   "codemirror_mode": {
    "name": "ipython",
    "version": 3
   },
   "file_extension": ".py",
   "mimetype": "text/x-python",
   "name": "python",
   "nbconvert_exporter": "python",
   "pygments_lexer": "ipython3",
   "version": "3.9.7"
  }
 },
 "nbformat": 4,
 "nbformat_minor": 5
}
